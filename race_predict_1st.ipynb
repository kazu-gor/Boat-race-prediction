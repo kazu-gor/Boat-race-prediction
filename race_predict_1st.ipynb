{
  "nbformat": 4,
  "nbformat_minor": 0,
  "metadata": {
    "colab": {
      "name": "race_predict_1st.ipynb のコピー",
      "provenance": [],
      "collapsed_sections": [],
      "authorship_tag": "ABX9TyNBqan7jiWqU5MBIzXYThKV",
      "include_colab_link": true
    },
    "kernelspec": {
      "name": "python3",
      "display_name": "Python 3"
    },
    "accelerator": "GPU"
  },
  "cells": [
    {
      "cell_type": "markdown",
      "metadata": {
        "id": "view-in-github",
        "colab_type": "text"
      },
      "source": [
        "<a href=\"https://colab.research.google.com/github/kazu-gor/Boat-race-prediction/blob/master/race_predict_1st.ipynb\" target=\"_parent\"><img src=\"https://colab.research.google.com/assets/colab-badge.svg\" alt=\"Open In Colab\"/></a>"
      ]
    },
    {
      "cell_type": "markdown",
      "metadata": {
        "id": "dcqcIT0q544o",
        "colab_type": "text"
      },
      "source": [
        "# Import the Library"
      ]
    },
    {
      "cell_type": "code",
      "metadata": {
        "id": "4QbPbku-D7dP",
        "colab_type": "code",
        "colab": {}
      },
      "source": [
        "import pandas as pd\n",
        "from sklearn.model_selection import train_test_split\n",
        "from tensorflow.python.keras import models, layers, regularizers, callbacks\n",
        "from google.colab import files"
      ],
      "execution_count": null,
      "outputs": []
    },
    {
      "cell_type": "markdown",
      "metadata": {
        "id": "oWfs5UMm5_8y",
        "colab_type": "text"
      },
      "source": [
        "# Upload the file by Google Colaboratory library"
      ]
    },
    {
      "cell_type": "markdown",
      "metadata": {
        "id": "Ftgr4J-c7HeW",
        "colab_type": "text"
      },
      "source": [
        "## Upload the train data"
      ]
    },
    {
      "cell_type": "code",
      "metadata": {
        "id": "0_uS_fezEbxq",
        "colab_type": "code",
        "colab": {
          "resources": {
            "http://localhost:8080/nbextensions/google.colab/files.js": {
              "data": "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",
              "ok": true,
              "headers": [
                [
                  "content-type",
                  "application/javascript"
                ]
              ],
              "status": 200,
              "status_text": ""
            }
          },
          "base_uri": "https://localhost:8080/",
          "height": 71
        },
        "outputId": "3442124d-7ba6-4134-bd43-949ae85cb93b"
      },
      "source": [
        "uploaded = files.upload()"
      ],
      "execution_count": null,
      "outputs": [
        {
          "output_type": "display_data",
          "data": {
            "text/html": [
              "\n",
              "     <input type=\"file\" id=\"files-5129d54f-1d90-47d3-8bf6-1cc73ac1aa80\" name=\"files[]\" multiple disabled />\n",
              "     <output id=\"result-5129d54f-1d90-47d3-8bf6-1cc73ac1aa80\">\n",
              "      Upload widget is only available when the cell has been executed in the\n",
              "      current browser session. Please rerun this cell to enable.\n",
              "      </output>\n",
              "      <script src=\"/nbextensions/google.colab/files.js\"></script> "
            ],
            "text/plain": [
              "<IPython.core.display.HTML object>"
            ]
          },
          "metadata": {
            "tags": []
          }
        },
        {
          "output_type": "stream",
          "text": [
            "Saving program_edition.csv to program_edition.csv\n"
          ],
          "name": "stdout"
        }
      ]
    },
    {
      "cell_type": "code",
      "metadata": {
        "id": "dGLoBCEqw_sh",
        "colab_type": "code",
        "colab": {}
      },
      "source": [
        "for filename1, _ in uploaded.items():\n",
        "  pass  "
      ],
      "execution_count": null,
      "outputs": []
    },
    {
      "cell_type": "code",
      "metadata": {
        "id": "fxvw2NjrEp-D",
        "colab_type": "code",
        "colab": {
          "base_uri": "https://localhost:8080/",
          "height": 142
        },
        "outputId": "4e0a0fa9-bac7-424f-f09a-1e771865ec59"
      },
      "source": [
        "names = [\"Place\", \"Number\", \"Name\", \"Age\", \"Live\", \"Weight\", \"Rank\", \"A_1st\", \"A_2nd\", \"B_1st\", \"B_2nd\", \"Moter_No\", \"Moter_2nd\", \"Bote_No\", \"Bote_2nd\"]\n",
        "df_x = pd.read_csv(filename1, names = names).drop([\"Name\", \"Live\", \"Number\"], axis=1).fillna(0)\n",
        "df_x.head(3)"
      ],
      "execution_count": null,
      "outputs": [
        {
          "output_type": "execute_result",
          "data": {
            "text/html": [
              "<div>\n",
              "<style scoped>\n",
              "    .dataframe tbody tr th:only-of-type {\n",
              "        vertical-align: middle;\n",
              "    }\n",
              "\n",
              "    .dataframe tbody tr th {\n",
              "        vertical-align: top;\n",
              "    }\n",
              "\n",
              "    .dataframe thead th {\n",
              "        text-align: right;\n",
              "    }\n",
              "</style>\n",
              "<table border=\"1\" class=\"dataframe\">\n",
              "  <thead>\n",
              "    <tr style=\"text-align: right;\">\n",
              "      <th></th>\n",
              "      <th>Place</th>\n",
              "      <th>Age</th>\n",
              "      <th>Weight</th>\n",
              "      <th>Rank</th>\n",
              "      <th>A_1st</th>\n",
              "      <th>A_2nd</th>\n",
              "      <th>B_1st</th>\n",
              "      <th>B_2nd</th>\n",
              "      <th>Moter_No</th>\n",
              "      <th>Moter_2nd</th>\n",
              "      <th>Bote_No</th>\n",
              "      <th>Bote_2nd</th>\n",
              "    </tr>\n",
              "  </thead>\n",
              "  <tbody>\n",
              "    <tr>\n",
              "      <th>0</th>\n",
              "      <td>1</td>\n",
              "      <td>39</td>\n",
              "      <td>54</td>\n",
              "      <td>A1</td>\n",
              "      <td>5.61</td>\n",
              "      <td>38.14</td>\n",
              "      <td>6.17</td>\n",
              "      <td>42.11</td>\n",
              "      <td>7</td>\n",
              "      <td>30.30</td>\n",
              "      <td>60</td>\n",
              "      <td>29.52</td>\n",
              "    </tr>\n",
              "    <tr>\n",
              "      <th>1</th>\n",
              "      <td>2</td>\n",
              "      <td>45</td>\n",
              "      <td>53</td>\n",
              "      <td>A1</td>\n",
              "      <td>6.54</td>\n",
              "      <td>47.58</td>\n",
              "      <td>6.50</td>\n",
              "      <td>50.00</td>\n",
              "      <td>49</td>\n",
              "      <td>27.74</td>\n",
              "      <td>46</td>\n",
              "      <td>37.71</td>\n",
              "    </tr>\n",
              "    <tr>\n",
              "      <th>2</th>\n",
              "      <td>3</td>\n",
              "      <td>32</td>\n",
              "      <td>55</td>\n",
              "      <td>A1</td>\n",
              "      <td>6.81</td>\n",
              "      <td>50.88</td>\n",
              "      <td>8.60</td>\n",
              "      <td>64.00</td>\n",
              "      <td>53</td>\n",
              "      <td>39.27</td>\n",
              "      <td>72</td>\n",
              "      <td>40.00</td>\n",
              "    </tr>\n",
              "  </tbody>\n",
              "</table>\n",
              "</div>"
            ],
            "text/plain": [
              "   Place  Age  Weight Rank  ...  Moter_No  Moter_2nd  Bote_No  Bote_2nd\n",
              "0      1   39      54   A1  ...         7      30.30       60     29.52\n",
              "1      2   45      53   A1  ...        49      27.74       46     37.71\n",
              "2      3   32      55   A1  ...        53      39.27       72     40.00\n",
              "\n",
              "[3 rows x 12 columns]"
            ]
          },
          "metadata": {
            "tags": []
          },
          "execution_count": 4
        }
      ]
    },
    {
      "cell_type": "markdown",
      "metadata": {
        "id": "8yadxO0q7NUH",
        "colab_type": "text"
      },
      "source": [
        "## Upload the test data"
      ]
    },
    {
      "cell_type": "code",
      "metadata": {
        "id": "mLYyJqy_0spC",
        "colab_type": "code",
        "colab": {
          "resources": {
            "http://localhost:8080/nbextensions/google.colab/files.js": {
              "data": "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",
              "ok": true,
              "headers": [
                [
                  "content-type",
                  "application/javascript"
                ]
              ],
              "status": 200,
              "status_text": ""
            }
          },
          "base_uri": "https://localhost:8080/",
          "height": 71
        },
        "outputId": "c633a9cc-a0f8-492a-be13-4435ae2d60c8"
      },
      "source": [
        "uploaded2 = files.upload()"
      ],
      "execution_count": null,
      "outputs": [
        {
          "output_type": "display_data",
          "data": {
            "text/html": [
              "\n",
              "     <input type=\"file\" id=\"files-bdd3358c-f229-4b3a-9a9c-a1f8fbc59bdc\" name=\"files[]\" multiple disabled />\n",
              "     <output id=\"result-bdd3358c-f229-4b3a-9a9c-a1f8fbc59bdc\">\n",
              "      Upload widget is only available when the cell has been executed in the\n",
              "      current browser session. Please rerun this cell to enable.\n",
              "      </output>\n",
              "      <script src=\"/nbextensions/google.colab/files.js\"></script> "
            ],
            "text/plain": [
              "<IPython.core.display.HTML object>"
            ]
          },
          "metadata": {
            "tags": []
          }
        },
        {
          "output_type": "stream",
          "text": [
            "Saving sorted_answer.csv to sorted_answer.csv\n"
          ],
          "name": "stdout"
        }
      ]
    },
    {
      "cell_type": "code",
      "metadata": {
        "id": "jD8tCnRJ03r-",
        "colab_type": "code",
        "colab": {}
      },
      "source": [
        "for filename2, _ in uploaded2.items():\n",
        "  pass\n",
        "\n",
        "names = [\"Place\", \"y\"]\n",
        "df_y = pd.read_csv(filename2, names = names).drop([\"Place\"], axis=1)"
      ],
      "execution_count": null,
      "outputs": []
    },
    {
      "cell_type": "code",
      "metadata": {
        "id": "RBkm6Y7_18hx",
        "colab_type": "code",
        "colab": {
          "base_uri": "https://localhost:8080/",
          "height": 235
        },
        "outputId": "a875b78d-ca5a-4da2-deb5-3f138cc3dcce"
      },
      "source": [
        "df = pd.merge(df_x, df_y, how=\"left\", left_index=True, right_index=True)\n",
        "df.head(6)"
      ],
      "execution_count": null,
      "outputs": [
        {
          "output_type": "execute_result",
          "data": {
            "text/html": [
              "<div>\n",
              "<style scoped>\n",
              "    .dataframe tbody tr th:only-of-type {\n",
              "        vertical-align: middle;\n",
              "    }\n",
              "\n",
              "    .dataframe tbody tr th {\n",
              "        vertical-align: top;\n",
              "    }\n",
              "\n",
              "    .dataframe thead th {\n",
              "        text-align: right;\n",
              "    }\n",
              "</style>\n",
              "<table border=\"1\" class=\"dataframe\">\n",
              "  <thead>\n",
              "    <tr style=\"text-align: right;\">\n",
              "      <th></th>\n",
              "      <th>Place</th>\n",
              "      <th>Age</th>\n",
              "      <th>Weight</th>\n",
              "      <th>Rank</th>\n",
              "      <th>A_1st</th>\n",
              "      <th>A_2nd</th>\n",
              "      <th>B_1st</th>\n",
              "      <th>B_2nd</th>\n",
              "      <th>Moter_No</th>\n",
              "      <th>Moter_2nd</th>\n",
              "      <th>Bote_No</th>\n",
              "      <th>Bote_2nd</th>\n",
              "      <th>y</th>\n",
              "    </tr>\n",
              "  </thead>\n",
              "  <tbody>\n",
              "    <tr>\n",
              "      <th>0</th>\n",
              "      <td>1</td>\n",
              "      <td>39</td>\n",
              "      <td>54</td>\n",
              "      <td>A1</td>\n",
              "      <td>5.61</td>\n",
              "      <td>38.14</td>\n",
              "      <td>6.17</td>\n",
              "      <td>42.11</td>\n",
              "      <td>7</td>\n",
              "      <td>30.30</td>\n",
              "      <td>60</td>\n",
              "      <td>29.52</td>\n",
              "      <td>0</td>\n",
              "    </tr>\n",
              "    <tr>\n",
              "      <th>1</th>\n",
              "      <td>2</td>\n",
              "      <td>45</td>\n",
              "      <td>53</td>\n",
              "      <td>A1</td>\n",
              "      <td>6.54</td>\n",
              "      <td>47.58</td>\n",
              "      <td>6.50</td>\n",
              "      <td>50.00</td>\n",
              "      <td>49</td>\n",
              "      <td>27.74</td>\n",
              "      <td>46</td>\n",
              "      <td>37.71</td>\n",
              "      <td>1</td>\n",
              "    </tr>\n",
              "    <tr>\n",
              "      <th>2</th>\n",
              "      <td>3</td>\n",
              "      <td>32</td>\n",
              "      <td>55</td>\n",
              "      <td>A1</td>\n",
              "      <td>6.81</td>\n",
              "      <td>50.88</td>\n",
              "      <td>8.60</td>\n",
              "      <td>64.00</td>\n",
              "      <td>53</td>\n",
              "      <td>39.27</td>\n",
              "      <td>72</td>\n",
              "      <td>40.00</td>\n",
              "      <td>0</td>\n",
              "    </tr>\n",
              "    <tr>\n",
              "      <th>3</th>\n",
              "      <td>4</td>\n",
              "      <td>51</td>\n",
              "      <td>52</td>\n",
              "      <td>A2</td>\n",
              "      <td>6.31</td>\n",
              "      <td>48.65</td>\n",
              "      <td>6.51</td>\n",
              "      <td>58.97</td>\n",
              "      <td>20</td>\n",
              "      <td>33.33</td>\n",
              "      <td>18</td>\n",
              "      <td>36.11</td>\n",
              "      <td>0</td>\n",
              "    </tr>\n",
              "    <tr>\n",
              "      <th>4</th>\n",
              "      <td>5</td>\n",
              "      <td>36</td>\n",
              "      <td>55</td>\n",
              "      <td>A2</td>\n",
              "      <td>6.85</td>\n",
              "      <td>51.58</td>\n",
              "      <td>6.97</td>\n",
              "      <td>56.25</td>\n",
              "      <td>51</td>\n",
              "      <td>29.14</td>\n",
              "      <td>39</td>\n",
              "      <td>38.07</td>\n",
              "      <td>0</td>\n",
              "    </tr>\n",
              "    <tr>\n",
              "      <th>5</th>\n",
              "      <td>6</td>\n",
              "      <td>31</td>\n",
              "      <td>51</td>\n",
              "      <td>A1</td>\n",
              "      <td>6.04</td>\n",
              "      <td>38.27</td>\n",
              "      <td>6.86</td>\n",
              "      <td>57.86</td>\n",
              "      <td>8</td>\n",
              "      <td>34.41</td>\n",
              "      <td>27</td>\n",
              "      <td>34.34</td>\n",
              "      <td>0</td>\n",
              "    </tr>\n",
              "  </tbody>\n",
              "</table>\n",
              "</div>"
            ],
            "text/plain": [
              "   Place  Age  Weight Rank  A_1st  ...  Moter_No  Moter_2nd  Bote_No  Bote_2nd  y\n",
              "0      1   39      54   A1   5.61  ...         7      30.30       60     29.52  0\n",
              "1      2   45      53   A1   6.54  ...        49      27.74       46     37.71  1\n",
              "2      3   32      55   A1   6.81  ...        53      39.27       72     40.00  0\n",
              "3      4   51      52   A2   6.31  ...        20      33.33       18     36.11  0\n",
              "4      5   36      55   A2   6.85  ...        51      29.14       39     38.07  0\n",
              "5      6   31      51   A1   6.04  ...         8      34.41       27     34.34  0\n",
              "\n",
              "[6 rows x 13 columns]"
            ]
          },
          "metadata": {
            "tags": []
          },
          "execution_count": 7
        }
      ]
    },
    {
      "cell_type": "code",
      "metadata": {
        "id": "E4AVCR9ZXJ2J",
        "colab_type": "code",
        "colab": {
          "base_uri": "https://localhost:8080/",
          "height": 255
        },
        "outputId": "bf429403-e17a-44df-8635-210d4317c877"
      },
      "source": [
        "df.isnull().sum()"
      ],
      "execution_count": null,
      "outputs": [
        {
          "output_type": "execute_result",
          "data": {
            "text/plain": [
              "Place        0\n",
              "Age          0\n",
              "Weight       0\n",
              "Rank         0\n",
              "A_1st        0\n",
              "A_2nd        0\n",
              "B_1st        0\n",
              "B_2nd        0\n",
              "Moter_No     0\n",
              "Moter_2nd    0\n",
              "Bote_No      0\n",
              "Bote_2nd     0\n",
              "y            0\n",
              "dtype: int64"
            ]
          },
          "metadata": {
            "tags": []
          },
          "execution_count": 8
        }
      ]
    },
    {
      "cell_type": "markdown",
      "metadata": {
        "id": "qRVCPC3nxxZt",
        "colab_type": "text"
      },
      "source": [
        "# OneHotEncoding"
      ]
    },
    {
      "cell_type": "code",
      "metadata": {
        "id": "3phdZMBQdNX2",
        "colab_type": "code",
        "colab": {
          "base_uri": "https://localhost:8080/",
          "height": 419
        },
        "outputId": "bbf57e49-5672-404d-fb16-13f3fc6b93a2"
      },
      "source": [
        "df_dummies = pd.get_dummies(df[\"Rank\"])\n",
        "df_dummies.astype(\"float32\")"
      ],
      "execution_count": null,
      "outputs": [
        {
          "output_type": "execute_result",
          "data": {
            "text/html": [
              "<div>\n",
              "<style scoped>\n",
              "    .dataframe tbody tr th:only-of-type {\n",
              "        vertical-align: middle;\n",
              "    }\n",
              "\n",
              "    .dataframe tbody tr th {\n",
              "        vertical-align: top;\n",
              "    }\n",
              "\n",
              "    .dataframe thead th {\n",
              "        text-align: right;\n",
              "    }\n",
              "</style>\n",
              "<table border=\"1\" class=\"dataframe\">\n",
              "  <thead>\n",
              "    <tr style=\"text-align: right;\">\n",
              "      <th></th>\n",
              "      <th>A1</th>\n",
              "      <th>A2</th>\n",
              "      <th>B1</th>\n",
              "      <th>B2</th>\n",
              "    </tr>\n",
              "  </thead>\n",
              "  <tbody>\n",
              "    <tr>\n",
              "      <th>0</th>\n",
              "      <td>1.0</td>\n",
              "      <td>0.0</td>\n",
              "      <td>0.0</td>\n",
              "      <td>0.0</td>\n",
              "    </tr>\n",
              "    <tr>\n",
              "      <th>1</th>\n",
              "      <td>1.0</td>\n",
              "      <td>0.0</td>\n",
              "      <td>0.0</td>\n",
              "      <td>0.0</td>\n",
              "    </tr>\n",
              "    <tr>\n",
              "      <th>2</th>\n",
              "      <td>1.0</td>\n",
              "      <td>0.0</td>\n",
              "      <td>0.0</td>\n",
              "      <td>0.0</td>\n",
              "    </tr>\n",
              "    <tr>\n",
              "      <th>3</th>\n",
              "      <td>0.0</td>\n",
              "      <td>1.0</td>\n",
              "      <td>0.0</td>\n",
              "      <td>0.0</td>\n",
              "    </tr>\n",
              "    <tr>\n",
              "      <th>4</th>\n",
              "      <td>0.0</td>\n",
              "      <td>1.0</td>\n",
              "      <td>0.0</td>\n",
              "      <td>0.0</td>\n",
              "    </tr>\n",
              "    <tr>\n",
              "      <th>...</th>\n",
              "      <td>...</td>\n",
              "      <td>...</td>\n",
              "      <td>...</td>\n",
              "      <td>...</td>\n",
              "    </tr>\n",
              "    <tr>\n",
              "      <th>17629</th>\n",
              "      <td>1.0</td>\n",
              "      <td>0.0</td>\n",
              "      <td>0.0</td>\n",
              "      <td>0.0</td>\n",
              "    </tr>\n",
              "    <tr>\n",
              "      <th>17630</th>\n",
              "      <td>1.0</td>\n",
              "      <td>0.0</td>\n",
              "      <td>0.0</td>\n",
              "      <td>0.0</td>\n",
              "    </tr>\n",
              "    <tr>\n",
              "      <th>17631</th>\n",
              "      <td>1.0</td>\n",
              "      <td>0.0</td>\n",
              "      <td>0.0</td>\n",
              "      <td>0.0</td>\n",
              "    </tr>\n",
              "    <tr>\n",
              "      <th>17632</th>\n",
              "      <td>1.0</td>\n",
              "      <td>0.0</td>\n",
              "      <td>0.0</td>\n",
              "      <td>0.0</td>\n",
              "    </tr>\n",
              "    <tr>\n",
              "      <th>17633</th>\n",
              "      <td>1.0</td>\n",
              "      <td>0.0</td>\n",
              "      <td>0.0</td>\n",
              "      <td>0.0</td>\n",
              "    </tr>\n",
              "  </tbody>\n",
              "</table>\n",
              "<p>17634 rows × 4 columns</p>\n",
              "</div>"
            ],
            "text/plain": [
              "        A1   A2   B1   B2\n",
              "0      1.0  0.0  0.0  0.0\n",
              "1      1.0  0.0  0.0  0.0\n",
              "2      1.0  0.0  0.0  0.0\n",
              "3      0.0  1.0  0.0  0.0\n",
              "4      0.0  1.0  0.0  0.0\n",
              "...    ...  ...  ...  ...\n",
              "17629  1.0  0.0  0.0  0.0\n",
              "17630  1.0  0.0  0.0  0.0\n",
              "17631  1.0  0.0  0.0  0.0\n",
              "17632  1.0  0.0  0.0  0.0\n",
              "17633  1.0  0.0  0.0  0.0\n",
              "\n",
              "[17634 rows x 4 columns]"
            ]
          },
          "metadata": {
            "tags": []
          },
          "execution_count": 9
        }
      ]
    },
    {
      "cell_type": "code",
      "metadata": {
        "id": "I_2ndCD4fCPj",
        "colab_type": "code",
        "colab": {
          "base_uri": "https://localhost:8080/",
          "height": 80
        },
        "outputId": "a6c98388-77b4-4c51-85ce-b61e38fe48a4"
      },
      "source": [
        "df = df.drop('Rank', axis=1)\n",
        "df.astype(\"float32\").head(1)  "
      ],
      "execution_count": null,
      "outputs": [
        {
          "output_type": "execute_result",
          "data": {
            "text/html": [
              "<div>\n",
              "<style scoped>\n",
              "    .dataframe tbody tr th:only-of-type {\n",
              "        vertical-align: middle;\n",
              "    }\n",
              "\n",
              "    .dataframe tbody tr th {\n",
              "        vertical-align: top;\n",
              "    }\n",
              "\n",
              "    .dataframe thead th {\n",
              "        text-align: right;\n",
              "    }\n",
              "</style>\n",
              "<table border=\"1\" class=\"dataframe\">\n",
              "  <thead>\n",
              "    <tr style=\"text-align: right;\">\n",
              "      <th></th>\n",
              "      <th>Place</th>\n",
              "      <th>Age</th>\n",
              "      <th>Weight</th>\n",
              "      <th>A_1st</th>\n",
              "      <th>A_2nd</th>\n",
              "      <th>B_1st</th>\n",
              "      <th>B_2nd</th>\n",
              "      <th>Moter_No</th>\n",
              "      <th>Moter_2nd</th>\n",
              "      <th>Bote_No</th>\n",
              "      <th>Bote_2nd</th>\n",
              "      <th>y</th>\n",
              "    </tr>\n",
              "  </thead>\n",
              "  <tbody>\n",
              "    <tr>\n",
              "      <th>0</th>\n",
              "      <td>1.0</td>\n",
              "      <td>39.0</td>\n",
              "      <td>54.0</td>\n",
              "      <td>5.61</td>\n",
              "      <td>38.139999</td>\n",
              "      <td>6.17</td>\n",
              "      <td>42.110001</td>\n",
              "      <td>7.0</td>\n",
              "      <td>30.299999</td>\n",
              "      <td>60.0</td>\n",
              "      <td>29.52</td>\n",
              "      <td>0.0</td>\n",
              "    </tr>\n",
              "  </tbody>\n",
              "</table>\n",
              "</div>"
            ],
            "text/plain": [
              "   Place   Age  Weight  A_1st  ...  Moter_2nd  Bote_No  Bote_2nd    y\n",
              "0    1.0  39.0    54.0   5.61  ...  30.299999     60.0     29.52  0.0\n",
              "\n",
              "[1 rows x 12 columns]"
            ]
          },
          "metadata": {
            "tags": []
          },
          "execution_count": 10
        }
      ]
    },
    {
      "cell_type": "code",
      "metadata": {
        "id": "vZ2-ihTWZkwA",
        "colab_type": "code",
        "colab": {
          "base_uri": "https://localhost:8080/",
          "height": 204
        },
        "outputId": "e0f32389-8373-4a2b-a99e-8c90cbe147d4"
      },
      "source": [
        "df = pd.merge(df, df_dummies, how=\"left\", left_index=True, right_index=True)\n",
        "df.head()"
      ],
      "execution_count": null,
      "outputs": [
        {
          "output_type": "execute_result",
          "data": {
            "text/html": [
              "<div>\n",
              "<style scoped>\n",
              "    .dataframe tbody tr th:only-of-type {\n",
              "        vertical-align: middle;\n",
              "    }\n",
              "\n",
              "    .dataframe tbody tr th {\n",
              "        vertical-align: top;\n",
              "    }\n",
              "\n",
              "    .dataframe thead th {\n",
              "        text-align: right;\n",
              "    }\n",
              "</style>\n",
              "<table border=\"1\" class=\"dataframe\">\n",
              "  <thead>\n",
              "    <tr style=\"text-align: right;\">\n",
              "      <th></th>\n",
              "      <th>Place</th>\n",
              "      <th>Age</th>\n",
              "      <th>Weight</th>\n",
              "      <th>A_1st</th>\n",
              "      <th>A_2nd</th>\n",
              "      <th>B_1st</th>\n",
              "      <th>B_2nd</th>\n",
              "      <th>Moter_No</th>\n",
              "      <th>Moter_2nd</th>\n",
              "      <th>Bote_No</th>\n",
              "      <th>Bote_2nd</th>\n",
              "      <th>y</th>\n",
              "      <th>A1</th>\n",
              "      <th>A2</th>\n",
              "      <th>B1</th>\n",
              "      <th>B2</th>\n",
              "    </tr>\n",
              "  </thead>\n",
              "  <tbody>\n",
              "    <tr>\n",
              "      <th>0</th>\n",
              "      <td>1</td>\n",
              "      <td>39</td>\n",
              "      <td>54</td>\n",
              "      <td>5.61</td>\n",
              "      <td>38.14</td>\n",
              "      <td>6.17</td>\n",
              "      <td>42.11</td>\n",
              "      <td>7</td>\n",
              "      <td>30.30</td>\n",
              "      <td>60</td>\n",
              "      <td>29.52</td>\n",
              "      <td>0</td>\n",
              "      <td>1</td>\n",
              "      <td>0</td>\n",
              "      <td>0</td>\n",
              "      <td>0</td>\n",
              "    </tr>\n",
              "    <tr>\n",
              "      <th>1</th>\n",
              "      <td>2</td>\n",
              "      <td>45</td>\n",
              "      <td>53</td>\n",
              "      <td>6.54</td>\n",
              "      <td>47.58</td>\n",
              "      <td>6.50</td>\n",
              "      <td>50.00</td>\n",
              "      <td>49</td>\n",
              "      <td>27.74</td>\n",
              "      <td>46</td>\n",
              "      <td>37.71</td>\n",
              "      <td>1</td>\n",
              "      <td>1</td>\n",
              "      <td>0</td>\n",
              "      <td>0</td>\n",
              "      <td>0</td>\n",
              "    </tr>\n",
              "    <tr>\n",
              "      <th>2</th>\n",
              "      <td>3</td>\n",
              "      <td>32</td>\n",
              "      <td>55</td>\n",
              "      <td>6.81</td>\n",
              "      <td>50.88</td>\n",
              "      <td>8.60</td>\n",
              "      <td>64.00</td>\n",
              "      <td>53</td>\n",
              "      <td>39.27</td>\n",
              "      <td>72</td>\n",
              "      <td>40.00</td>\n",
              "      <td>0</td>\n",
              "      <td>1</td>\n",
              "      <td>0</td>\n",
              "      <td>0</td>\n",
              "      <td>0</td>\n",
              "    </tr>\n",
              "    <tr>\n",
              "      <th>3</th>\n",
              "      <td>4</td>\n",
              "      <td>51</td>\n",
              "      <td>52</td>\n",
              "      <td>6.31</td>\n",
              "      <td>48.65</td>\n",
              "      <td>6.51</td>\n",
              "      <td>58.97</td>\n",
              "      <td>20</td>\n",
              "      <td>33.33</td>\n",
              "      <td>18</td>\n",
              "      <td>36.11</td>\n",
              "      <td>0</td>\n",
              "      <td>0</td>\n",
              "      <td>1</td>\n",
              "      <td>0</td>\n",
              "      <td>0</td>\n",
              "    </tr>\n",
              "    <tr>\n",
              "      <th>4</th>\n",
              "      <td>5</td>\n",
              "      <td>36</td>\n",
              "      <td>55</td>\n",
              "      <td>6.85</td>\n",
              "      <td>51.58</td>\n",
              "      <td>6.97</td>\n",
              "      <td>56.25</td>\n",
              "      <td>51</td>\n",
              "      <td>29.14</td>\n",
              "      <td>39</td>\n",
              "      <td>38.07</td>\n",
              "      <td>0</td>\n",
              "      <td>0</td>\n",
              "      <td>1</td>\n",
              "      <td>0</td>\n",
              "      <td>0</td>\n",
              "    </tr>\n",
              "  </tbody>\n",
              "</table>\n",
              "</div>"
            ],
            "text/plain": [
              "   Place  Age  Weight  A_1st  A_2nd  B_1st  ...  Bote_2nd  y  A1  A2  B1  B2\n",
              "0      1   39      54   5.61  38.14   6.17  ...     29.52  0   1   0   0   0\n",
              "1      2   45      53   6.54  47.58   6.50  ...     37.71  1   1   0   0   0\n",
              "2      3   32      55   6.81  50.88   8.60  ...     40.00  0   1   0   0   0\n",
              "3      4   51      52   6.31  48.65   6.51  ...     36.11  0   0   1   0   0\n",
              "4      5   36      55   6.85  51.58   6.97  ...     38.07  0   0   1   0   0\n",
              "\n",
              "[5 rows x 16 columns]"
            ]
          },
          "metadata": {
            "tags": []
          },
          "execution_count": 11
        }
      ]
    },
    {
      "cell_type": "markdown",
      "metadata": {
        "id": "cl5Hv6VTzFRu",
        "colab_type": "text"
      },
      "source": [
        "# Split the train data and test data"
      ]
    },
    {
      "cell_type": "code",
      "metadata": {
        "id": "42Pm-fePgpqO",
        "colab_type": "code",
        "colab": {}
      },
      "source": [
        "y = df.iloc[:, -5].values.astype(\"float32\")\n",
        "X = df.drop(\"y\", axis=1).values.astype(\"float32\")"
      ],
      "execution_count": null,
      "outputs": []
    },
    {
      "cell_type": "code",
      "metadata": {
        "id": "3-kA7k1_g2H0",
        "colab_type": "code",
        "colab": {}
      },
      "source": [
        "X_train, y_train, X_test, y_test = train_test_split(\n",
        "    X, y, test_size=0.2, random_state=0)"
      ],
      "execution_count": null,
      "outputs": []
    },
    {
      "cell_type": "code",
      "metadata": {
        "id": "qynvay0vhWLO",
        "colab_type": "code",
        "colab": {
          "base_uri": "https://localhost:8080/",
          "height": 34
        },
        "outputId": "a1e266b7-7d29-4f79-cab6-7ea03cbbbfc1"
      },
      "source": [
        "X_train.shape, y_train.shape, X_test.shape, y_test.shape"
      ],
      "execution_count": null,
      "outputs": [
        {
          "output_type": "execute_result",
          "data": {
            "text/plain": [
              "((14107, 15), (3527, 15), (14107,), (3527,))"
            ]
          },
          "metadata": {
            "tags": []
          },
          "execution_count": 18
        }
      ]
    },
    {
      "cell_type": "code",
      "metadata": {
        "id": "X2rcaLbThgpX",
        "colab_type": "code",
        "colab": {}
      },
      "source": [
        "mean = X_train.mean(axis=0)\n",
        "std = X_train.std(axis=0)\n",
        "X_train -= mean\n",
        "X_train /= std\n",
        "\n",
        "y_train -= mean\n",
        "y_train /= std"
      ],
      "execution_count": null,
      "outputs": []
    },
    {
      "cell_type": "markdown",
      "metadata": {
        "id": "Szk93NpM0BoZ",
        "colab_type": "text"
      },
      "source": [
        "# Construct the model"
      ]
    },
    {
      "cell_type": "code",
      "metadata": {
        "colab_type": "code",
        "id": "y_BodLIE_n7S",
        "colab": {}
      },
      "source": [
        "model = models.Sequential()\n",
        "model.add(layers.Dense(128, activation=\"relu\", kernel_regularizer=regularizers.l2(0.001), input_shape=(X_train.shape[1], )))\n",
        "model.add(layers.Dropout(0.49))\n",
        "model.add(layers.Dense(512, activation=\"relu\", kernel_regularizer=regularizers.l2(0.001)))\n",
        "model.add(layers.Dropout(0.49))\n",
        "model.add(layers.Dense(512, activation=\"relu\", kernel_regularizer=regularizers.l2(0.001)))\n",
        "model.add(layers.Dropout(0.49))\n",
        "model.add(layers.Dense(512, activation=\"relu\", kernel_regularizer=regularizers.l2(0.001)))\n",
        "model.add(layers.Dropout(0.49))\n",
        "model.add(layers.Dense(1, activation=\"sigmoid\"))"
      ],
      "execution_count": null,
      "outputs": []
    },
    {
      "cell_type": "markdown",
      "metadata": {
        "id": "aXWrK9ur0czz",
        "colab_type": "text"
      },
      "source": [
        "# Compile the model"
      ]
    },
    {
      "cell_type": "code",
      "metadata": {
        "id": "Le3zK6hoxh7l",
        "colab_type": "code",
        "colab": {}
      },
      "source": [
        "model.compile(optimizer=\"rmsprop\",\n",
        "              loss=\"binary_crossentropy\",\n",
        "              metrics=[\"acc\"])"
      ],
      "execution_count": null,
      "outputs": []
    },
    {
      "cell_type": "markdown",
      "metadata": {
        "id": "3ImaFIfC0ny2",
        "colab_type": "text"
      },
      "source": [
        "# Fit the model"
      ]
    },
    {
      "cell_type": "code",
      "metadata": {
        "id": "Has3mUJ4F8Fb",
        "colab_type": "code",
        "colab": {
          "base_uri": "https://localhost:8080/",
          "height": 1000
        },
        "outputId": "bd57a88a-2201-426a-9905-484b23dcd2d1"
      },
      "source": [
        "EPOCHS=1000\n",
        "early_stop = callbacks.EarlyStopping(monitor='val_loss', patience=10)\n",
        "\n",
        "history = model.fit(X_train,\n",
        "                    X_test,\n",
        "                    epochs=EPOCHS,\n",
        "                    batch_size=512,\n",
        "                    validation_split=0.2,\n",
        "                    callbacks=[early_stop])"
      ],
      "execution_count": null,
      "outputs": [
        {
          "output_type": "stream",
          "text": [
            "Epoch 1/1000\n",
            "23/23 [==============================] - 0s 13ms/step - loss: 1.7402 - acc: 0.7087 - val_loss: 1.5568 - val_acc: 0.8363\n",
            "Epoch 2/1000\n",
            "23/23 [==============================] - 0s 6ms/step - loss: 1.4465 - acc: 0.8127 - val_loss: 1.3754 - val_acc: 0.8281\n",
            "Epoch 3/1000\n",
            "23/23 [==============================] - 0s 6ms/step - loss: 1.3011 - acc: 0.8277 - val_loss: 1.2530 - val_acc: 0.8306\n",
            "Epoch 4/1000\n",
            "23/23 [==============================] - 0s 6ms/step - loss: 1.1869 - acc: 0.8279 - val_loss: 1.1417 - val_acc: 0.8076\n",
            "Epoch 5/1000\n",
            "23/23 [==============================] - 0s 5ms/step - loss: 1.0712 - acc: 0.8289 - val_loss: 1.0089 - val_acc: 0.8391\n",
            "Epoch 6/1000\n",
            "23/23 [==============================] - 0s 5ms/step - loss: 0.9672 - acc: 0.8327 - val_loss: 0.9138 - val_acc: 0.8391\n",
            "Epoch 7/1000\n",
            "23/23 [==============================] - 0s 5ms/step - loss: 0.8664 - acc: 0.8373 - val_loss: 0.8248 - val_acc: 0.8434\n",
            "Epoch 8/1000\n",
            "23/23 [==============================] - 0s 5ms/step - loss: 0.7816 - acc: 0.8365 - val_loss: 0.7458 - val_acc: 0.8391\n",
            "Epoch 9/1000\n",
            "23/23 [==============================] - 0s 5ms/step - loss: 0.7154 - acc: 0.8366 - val_loss: 0.6999 - val_acc: 0.8402\n",
            "Epoch 10/1000\n",
            "23/23 [==============================] - 0s 5ms/step - loss: 0.6373 - acc: 0.8389 - val_loss: 0.6266 - val_acc: 0.8303\n",
            "Epoch 11/1000\n",
            "23/23 [==============================] - 0s 6ms/step - loss: 0.5807 - acc: 0.8334 - val_loss: 0.5681 - val_acc: 0.8384\n",
            "Epoch 12/1000\n",
            "23/23 [==============================] - 0s 5ms/step - loss: 0.5381 - acc: 0.8387 - val_loss: 0.5586 - val_acc: 0.8200\n",
            "Epoch 13/1000\n",
            "23/23 [==============================] - 0s 5ms/step - loss: 0.5018 - acc: 0.8346 - val_loss: 0.4930 - val_acc: 0.8430\n",
            "Epoch 14/1000\n",
            "23/23 [==============================] - 0s 5ms/step - loss: 0.4722 - acc: 0.8376 - val_loss: 0.4741 - val_acc: 0.8455\n",
            "Epoch 15/1000\n",
            "23/23 [==============================] - 0s 5ms/step - loss: 0.4597 - acc: 0.8376 - val_loss: 0.4582 - val_acc: 0.8381\n",
            "Epoch 16/1000\n",
            "23/23 [==============================] - 0s 5ms/step - loss: 0.4446 - acc: 0.8393 - val_loss: 0.4409 - val_acc: 0.8448\n",
            "Epoch 17/1000\n",
            "23/23 [==============================] - 0s 5ms/step - loss: 0.4481 - acc: 0.8393 - val_loss: 0.4382 - val_acc: 0.8412\n",
            "Epoch 18/1000\n",
            "23/23 [==============================] - 0s 5ms/step - loss: 0.4326 - acc: 0.8407 - val_loss: 0.5368 - val_acc: 0.7881\n",
            "Epoch 19/1000\n",
            "23/23 [==============================] - 0s 6ms/step - loss: 0.4312 - acc: 0.8365 - val_loss: 0.4295 - val_acc: 0.8405\n",
            "Epoch 20/1000\n",
            "23/23 [==============================] - 0s 5ms/step - loss: 0.4256 - acc: 0.8362 - val_loss: 0.4604 - val_acc: 0.8296\n",
            "Epoch 21/1000\n",
            "23/23 [==============================] - 0s 5ms/step - loss: 0.4317 - acc: 0.8395 - val_loss: 0.4253 - val_acc: 0.8434\n",
            "Epoch 22/1000\n",
            "23/23 [==============================] - 0s 5ms/step - loss: 0.4202 - acc: 0.8398 - val_loss: 0.4211 - val_acc: 0.8420\n",
            "Epoch 23/1000\n",
            "23/23 [==============================] - 0s 5ms/step - loss: 0.4155 - acc: 0.8378 - val_loss: 0.4258 - val_acc: 0.8409\n",
            "Epoch 24/1000\n",
            "23/23 [==============================] - 0s 5ms/step - loss: 0.4188 - acc: 0.8390 - val_loss: 0.4194 - val_acc: 0.8420\n",
            "Epoch 25/1000\n",
            "23/23 [==============================] - 0s 5ms/step - loss: 0.4285 - acc: 0.8401 - val_loss: 0.4272 - val_acc: 0.8402\n",
            "Epoch 26/1000\n",
            "23/23 [==============================] - 0s 6ms/step - loss: 0.4151 - acc: 0.8406 - val_loss: 0.4334 - val_acc: 0.8441\n",
            "Epoch 27/1000\n",
            "23/23 [==============================] - 0s 5ms/step - loss: 0.4089 - acc: 0.8386 - val_loss: 0.4294 - val_acc: 0.8412\n",
            "Epoch 28/1000\n",
            "23/23 [==============================] - 0s 5ms/step - loss: 0.4122 - acc: 0.8402 - val_loss: 0.4307 - val_acc: 0.8402\n",
            "Epoch 29/1000\n",
            "23/23 [==============================] - 0s 5ms/step - loss: 0.4104 - acc: 0.8403 - val_loss: 0.4140 - val_acc: 0.8437\n",
            "Epoch 30/1000\n",
            "23/23 [==============================] - 0s 5ms/step - loss: 0.4163 - acc: 0.8413 - val_loss: 0.4127 - val_acc: 0.8412\n",
            "Epoch 31/1000\n",
            "23/23 [==============================] - 0s 5ms/step - loss: 0.4089 - acc: 0.8402 - val_loss: 0.4165 - val_acc: 0.8420\n",
            "Epoch 32/1000\n",
            "23/23 [==============================] - 0s 5ms/step - loss: 0.4108 - acc: 0.8413 - val_loss: 0.4124 - val_acc: 0.8412\n",
            "Epoch 33/1000\n",
            "23/23 [==============================] - 0s 5ms/step - loss: 0.4128 - acc: 0.8407 - val_loss: 0.4102 - val_acc: 0.8402\n",
            "Epoch 34/1000\n",
            "23/23 [==============================] - 0s 5ms/step - loss: 0.4153 - acc: 0.8382 - val_loss: 0.4228 - val_acc: 0.8402\n",
            "Epoch 35/1000\n",
            "23/23 [==============================] - 0s 5ms/step - loss: 0.4128 - acc: 0.8401 - val_loss: 0.4139 - val_acc: 0.8441\n",
            "Epoch 36/1000\n",
            "23/23 [==============================] - 0s 5ms/step - loss: 0.4125 - acc: 0.8404 - val_loss: 0.4167 - val_acc: 0.8416\n",
            "Epoch 37/1000\n",
            "23/23 [==============================] - 0s 5ms/step - loss: 0.4101 - acc: 0.8385 - val_loss: 0.4628 - val_acc: 0.8097\n",
            "Epoch 38/1000\n",
            "23/23 [==============================] - 0s 5ms/step - loss: 0.4337 - acc: 0.8374 - val_loss: 0.4401 - val_acc: 0.8179\n",
            "Epoch 39/1000\n",
            "23/23 [==============================] - 0s 5ms/step - loss: 0.4089 - acc: 0.8377 - val_loss: 0.4185 - val_acc: 0.8402\n",
            "Epoch 40/1000\n",
            "23/23 [==============================] - 0s 5ms/step - loss: 0.4113 - acc: 0.8371 - val_loss: 0.4129 - val_acc: 0.8416\n",
            "Epoch 41/1000\n",
            "23/23 [==============================] - 0s 5ms/step - loss: 0.4117 - acc: 0.8410 - val_loss: 0.4121 - val_acc: 0.8427\n",
            "Epoch 42/1000\n",
            "23/23 [==============================] - 0s 6ms/step - loss: 0.4020 - acc: 0.8404 - val_loss: 0.4173 - val_acc: 0.8416\n",
            "Epoch 43/1000\n",
            "23/23 [==============================] - 0s 6ms/step - loss: 0.4283 - acc: 0.8394 - val_loss: 0.4212 - val_acc: 0.8409\n"
          ],
          "name": "stdout"
        }
      ]
    },
    {
      "cell_type": "markdown",
      "metadata": {
        "id": "arsmyBuJ0qJZ",
        "colab_type": "text"
      },
      "source": [
        "# Evaluate the model"
      ]
    },
    {
      "cell_type": "code",
      "metadata": {
        "id": "-zaTS940yZNy",
        "colab_type": "code",
        "colab": {
          "base_uri": "https://localhost:8080/",
          "height": 68
        },
        "outputId": "ef094b8c-f456-4944-c284-254fd3a144d5"
      },
      "source": [
        "score = model.evaluate(y_train, y_test)\n",
        "print(\"loss : {}\".format(score[0]))\n",
        "print(\"Test score : {}\".format(score[1]))"
      ],
      "execution_count": null,
      "outputs": [
        {
          "output_type": "stream",
          "text": [
            "111/111 [==============================] - 0s 2ms/step - loss: 0.4480 - acc: 0.8188\n",
            "loss : 0.44802385568618774\n",
            "Test score : 0.8188261985778809\n"
          ],
          "name": "stdout"
        }
      ]
    },
    {
      "cell_type": "code",
      "metadata": {
        "id": "Y9RGaU5e09IR",
        "colab_type": "code",
        "colab": {
          "base_uri": "https://localhost:8080/",
          "height": 34
        },
        "outputId": "979df053-af9a-45f1-9dd3-4ef9b6fa7f9b"
      },
      "source": [
        "history_dict = history.history\n",
        "history_dict.keys()"
      ],
      "execution_count": null,
      "outputs": [
        {
          "output_type": "execute_result",
          "data": {
            "text/plain": [
              "dict_keys(['loss', 'acc', 'val_loss', 'val_acc'])"
            ]
          },
          "metadata": {
            "tags": []
          },
          "execution_count": 24
        }
      ]
    },
    {
      "cell_type": "markdown",
      "metadata": {
        "id": "Y5wAJbZG3i_F",
        "colab_type": "text"
      },
      "source": [
        "# Plot the training and validation loss"
      ]
    },
    {
      "cell_type": "code",
      "metadata": {
        "id": "bDk5oB_V0trW",
        "colab_type": "code",
        "colab": {
          "base_uri": "https://localhost:8080/",
          "height": 295
        },
        "outputId": "ec7affa3-709c-4430-f6e5-dcfb3f39b201"
      },
      "source": [
        "  import matplotlib.pyplot as plt\n",
        "\n",
        "  #ドットは訓練データを表しており、折れ線は検証データを表しています\n",
        "\n",
        "  history_dict = history.history\n",
        "  loss_values = history_dict['loss']\n",
        "  val_loss_values = history_dict['val_loss']\n",
        "\n",
        "  epochs = range(1, len(loss_values) + 1)\n",
        "\n",
        "  #”bo”は”blue dot”（青のドット）を意味する\n",
        "  plt.plot(epochs, loss_values, 'bo', label = 'Training loss')\n",
        "  #”b”は\"solid blue line\"(青の実線）を意味する\n",
        "  plt.plot(epochs, val_loss_values, 'b', label='Validation loss')\n",
        "  plt.title('Training and validation loss')\n",
        "  plt.xlabel('Epochs')\n",
        "  plt.ylabel('Loss')\n",
        "  plt.legend()\n",
        "  plt.show()"
      ],
      "execution_count": null,
      "outputs": [
        {
          "output_type": "display_data",
          "data": {
            "image/png": "[encoded data removed]",
            "text/plain": [
              "<Figure size 432x288 with 1 Axes>"
            ]
          },
          "metadata": {
            "tags": [],
            "needs_background": "light"
          }
        }
      ]
    },
    {
      "cell_type": "markdown",
      "metadata": {
        "id": "GnVqg-Bw3t97",
        "colab_type": "text"
      },
      "source": [
        "# Plot the training and validation accuracy"
      ]
    },
    {
      "cell_type": "code",
      "metadata": {
        "id": "XAt0K8Nv1CbL",
        "colab_type": "code",
        "colab": {
          "base_uri": "https://localhost:8080/",
          "height": 295
        },
        "outputId": "59d23cbc-3a02-4474-86ea-54841cbba03d"
      },
      "source": [
        "#図を消去\n",
        "#ドットは訓練データでの結果、折れ線は検証データでの結果\n",
        "plt.clf()\n",
        "\n",
        "acc = history_dict['acc']\n",
        "val_acc = history_dict['val_acc']\n",
        "\n",
        "plt.plot(epochs, acc, 'bo', label='Training acc')\n",
        "plt.plot(epochs, val_acc, 'b', label='Validation acc')\n",
        "plt.title('Training and Validation accuracy')\n",
        "plt.xlabel('Epochs')\n",
        "plt.ylabel('Accuracy')\n",
        "plt.legend()\n",
        "plt.show()"
      ],
      "execution_count": null,
      "outputs": [
        {
          "output_type": "display_data",
          "data": {
            "image/png": "[encoded data removed]",
            "text/plain": [
              "<Figure size 432x288 with 1 Axes>"
            ]
          },
          "metadata": {
            "tags": [],
            "needs_background": "light"
          }
        }
      ]
    },
    {
      "cell_type": "code",
      "metadata": {
        "id": "V4GoQnaB2AT2",
        "colab_type": "code",
        "colab": {
          "base_uri": "https://localhost:8080/",
          "height": 136
        },
        "outputId": "25ebdfd4-e1d1-41e1-985b-faceabddfadc"
      },
      "source": [
        "model.predict(y_train)"
      ],
      "execution_count": null,
      "outputs": [
        {
          "output_type": "execute_result",
          "data": {
            "text/plain": [
              "array([[0.21825072],\n",
              "       [0.27279532],\n",
              "       [0.24371007],\n",
              "       ...,\n",
              "       [0.25476125],\n",
              "       [0.16886793],\n",
              "       [0.15688522]], dtype=float32)"
            ]
          },
          "metadata": {
            "tags": []
          },
          "execution_count": 27
        }
      ]
    },
    {
      "cell_type": "markdown",
      "metadata": {
        "id": "uRPwXyhv395w",
        "colab_type": "text"
      },
      "source": [
        "# Save the weights"
      ]
    },
    {
      "cell_type": "code",
      "metadata": {
        "id": "5141hVp0H04t",
        "colab_type": "code",
        "colab": {}
      },
      "source": [
        "open(\"and.json\", \"w\").write(model.to_json())\n",
        "\n",
        "model.save_weights(\"and.h5\")"
      ],
      "execution_count": null,
      "outputs": []
    }
  ]
}